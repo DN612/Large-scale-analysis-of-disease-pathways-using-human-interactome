{
  "nbformat": 4,
  "nbformat_minor": 0,
  "metadata": {
    "colab": {
      "name": "CN_Project - Backup.ipynb",
      "provenance": [],
      "collapsed_sections": [
        "F_-s_jRFpn_C",
        "jaD0E_1ipwvm",
        "w85_fXmZAhMP",
        "BdmXVrAJtaBx",
        "tg7SlEzHkgrp",
        "dKVnOYTuAsh5",
        "hCKjKAgSA2VV"
      ]
    },
    "kernelspec": {
      "display_name": "Python 3",
      "name": "python3"
    }
  },
  "cells": [
    {
      "cell_type": "markdown",
      "metadata": {
        "id": "F_-s_jRFpn_C"
      },
      "source": [
        "# Pre"
      ]
    },
    {
      "cell_type": "code",
      "metadata": {
        "id": "7WwdnmGFxQbW"
      },
      "source": [
        "import numpy as np\n",
        "import matplotlib.pyplot as plt\n",
        "import pandas as pd\n",
        "import functools as ft\n",
        "from functools import reduce\n",
        "import math\n",
        "import networkx as nx\n",
        "import networkx.classes.function as fn\n",
        "import networkx.algorithms as alg\n",
        "import multiprocessing\n",
        "from joblib import Parallel, delayed\n",
        "from copy import deepcopy\n",
        "from scipy.stats import hypergeom\n",
        "import random\n",
        "from time import time\n",
        "import multiprocessing\n",
        "import random"
      ],
      "execution_count": null,
      "outputs": []
    },
    {
      "cell_type": "code",
      "metadata": {
        "id": "LraJotJwbXbg",
        "colab": {
          "base_uri": "https://localhost:8080/"
        },
        "outputId": "21747d56-c2c1-4e36-9523-357b54c8bee3"
      },
      "source": [
        "from google.colab import drive\n",
        "drive.mount('/content/drive',force_remount=True)\n",
        "root = '/content/drive/MyDrive/Complex Network /RND/'"
      ],
      "execution_count": null,
      "outputs": [
        {
          "output_type": "stream",
          "text": [
            "Mounted at /content/drive\n"
          ],
          "name": "stdout"
        }
      ]
    },
    {
      "cell_type": "code",
      "metadata": {
        "id": "NF3AcEIIxgLh"
      },
      "source": [
        "diesease_proteins = np.array(pd.read_csv(root+'bio-pathways-associations.csv')) \n",
        "disease_classes =  np.array(pd.read_csv(root+'bio-pathways-diseaseclasses.csv')) \n",
        "ppi_dataset = np.array(pd.read_csv(root+'bio-pathways-network.csv')) "
      ],
      "execution_count": null,
      "outputs": []
    },
    {
      "cell_type": "code",
      "metadata": {
        "id": "BzPppgaHUSkZ",
        "colab": {
          "base_uri": "https://localhost:8080/"
        },
        "outputId": "90dc45ef-3bd8-4379-bdaf-d27114e63c6d"
      },
      "source": [
        "### Incidence/Edge list of ppi network\n",
        "ppi = np.array(ppi_dataset)\n",
        "print(\"ith element of ppi:\", ppi[0])\n",
        "\n",
        "## Create a network from given edge list\n",
        "G = nx.Graph()\n",
        "G.add_edges_from(ppi)\n",
        "\n",
        "## Nodes of network, Edges of Network\n",
        "print(\"Total Nodes:\",len(G.nodes()))\n",
        "print(\"Total Edges:\",len(G.edges()))\n",
        "\n",
        "## Adjacancy Matrix In Networkx Format\n",
        "n = nx.adjacency_matrix(G).shape\n",
        "print(\"Shape of adjacency matrix:\",n)\n",
        "\n",
        "## Adjacancy List\n",
        "adj = dict(G.adjacency())\n",
        "print(\"Adjacency list of node_id = 1 : \",adj[1])"
      ],
      "execution_count": null,
      "outputs": [
        {
          "output_type": "stream",
          "text": [
            "ith element of ppi: [1394 2778]\n",
            "Total Nodes: 21557\n",
            "Total Edges: 342353\n",
            "Shape of adjacency matrix: (21557, 21557)\n",
            "Adjacency list of node_id = 1 :  {1026: {}, 80854: {}, 10321: {}, 2886: {}, 6622: {}, 10549: {}, 6472: {}, 7083: {}, 310: {}, 368: {}, 6606: {}, 284161: {}}\n"
          ],
          "name": "stdout"
        }
      ]
    },
    {
      "cell_type": "code",
      "metadata": {
        "id": "Ub0HM02qit-P",
        "colab": {
          "base_uri": "https://localhost:8080/"
        },
        "outputId": "561f5bae-f07a-443a-a9a9-bec62fdb24f5"
      },
      "source": [
        " ## Extract Largest Connected Component from the network\n",
        "\n",
        "## Node lists of Connnected Components\n",
        "cc_nodes = nx.connected_components(G)\n",
        "\n",
        "## Nodes in Giant Component\n",
        "gcc_nodes = max(cc_nodes, key=len)\n",
        "\n",
        "## Giant component as subgraph of G\n",
        "gcc = G.subgraph(gcc_nodes)\n",
        "\n",
        "## Number of nodes and Number of edges\n",
        "print(\"Nodes in GCC:\",len(gcc.nodes()))\n",
        "print(\"Edges in GCC:\",len(gcc.edges()))\n",
        "\n",
        "## Adjacancy Matrix (numpy array format)\n",
        "gcc_adj_mat = nx.adjacency_matrix(gcc).todense()\n",
        "\n",
        "### Adjacency list of Giant Connected Component (python dictionary format)\n",
        "gcc_adj_list = dict(gcc.adjacency())"
      ],
      "execution_count": null,
      "outputs": [
        {
          "output_type": "stream",
          "text": [
            "Nodes in GCC: 21521\n",
            "Edges in GCC: 342316\n"
          ],
          "name": "stdout"
        }
      ]
    },
    {
      "cell_type": "code",
      "metadata": {
        "id": "OM6QQGpjnXn3",
        "colab": {
          "base_uri": "https://localhost:8080/"
        },
        "outputId": "a1370f3a-163b-41bb-d73a-0f119c156d46"
      },
      "source": [
        "### Extract disease-wise protein data\n",
        "\n",
        "## disease_proteins[disease_id] = list of seed proteins responsible for disease with disease_id.  \n",
        "disease_proteins_list = {}\n",
        "\n",
        "## total distinct proteins of disease related seeds (proteins) \n",
        "disease_seed_set = set()\n",
        "\n",
        "for row in diesease_proteins:\n",
        "  disease_id = row[0]\n",
        "  disease_seeds  = [int(e) for e in row[2].replace(\" \", \"\").split(',')]\n",
        "  disease_proteins_list[disease_id] = disease_seeds \n",
        "  disease_seed_set.update (disease_seeds)\n",
        "\n",
        "print(\"Total Number of Diseases:\",len(disease_proteins_list))\n",
        "print(\"Total Number of Diseases Proteins:\",len(disease_seed_set))"
      ],
      "execution_count": null,
      "outputs": [
        {
          "output_type": "stream",
          "text": [
            "Total Number of Diseases: 519\n",
            "Total Number of Diseases Proteins: 7294\n"
          ],
          "name": "stdout"
        }
      ]
    },
    {
      "cell_type": "code",
      "metadata": {
        "id": "FltDhaCFq3Hp",
        "colab": {
          "base_uri": "https://localhost:8080/"
        },
        "outputId": "7f4bcf64-8e34-443c-f00c-95b5ccbd6247"
      },
      "source": [
        "### Remove disease proteins from pathway that are not in Giant component\n",
        "\n",
        "## Set proteins which are related to any of the 519 diseases and belong to GCC of ppi network\n",
        "seeds = set()\n",
        "\n",
        "## pathway[disease_id] = list of seed proteins responsible for disease with disease_id and belong to GCC of ppi.  \n",
        "pathway = {}\n",
        "\n",
        "genes = set(gcc.nodes())\n",
        "for id in disease_proteins_list:\n",
        "  pathway[id] = [seed for seed in disease_proteins_list[id]  if seed in genes]\n",
        "  seeds.update(pathway[id])  \n",
        "\n",
        "order = list(pathway.keys())\n",
        "nodes = list(gcc.nodes())\n",
        "\n",
        "print(\"Number of nodes in Giant Component that are related to some disease: \", len(seeds))"
      ],
      "execution_count": null,
      "outputs": [
        {
          "output_type": "stream",
          "text": [
            "Number of nodes in Giant Component that are related to some disease:  6289\n"
          ],
          "name": "stdout"
        }
      ]
    },
    {
      "cell_type": "code",
      "metadata": {
        "colab": {
          "base_uri": "https://localhost:8080/"
        },
        "id": "ChuX_sTgG9V1",
        "outputId": "fc31e059-e39a-4b19-ea0a-df98703925b7"
      },
      "source": [
        "degs = list(dict(gcc.degree()).values())\n",
        "print(len(degs))\n",
        "\n",
        "s=0\n",
        "for i in degs:\n",
        "  for j in degs:\n",
        "    s+= i*j\n",
        "  s -= i*i\n",
        "\n",
        "m = sum(degs)\n",
        "\n",
        "Qmax = 1 - (s/(m*m))\n",
        "Qmax"
      ],
      "execution_count": null,
      "outputs": [
        {
          "output_type": "stream",
          "text": [
            "21521\n"
          ],
          "name": "stdout"
        },
        {
          "output_type": "execute_result",
          "data": {
            "text/plain": [
              "0.00026168889900657355"
            ]
          },
          "metadata": {
            "tags": []
          },
          "execution_count": 8
        }
      ]
    },
    {
      "cell_type": "code",
      "metadata": {
        "colab": {
          "base_uri": "https://localhost:8080/",
          "height": 284
        },
        "id": "FC8X0bYeIhj5",
        "outputId": "22ab959a-0832-4be1-c6c4-b8e01d000931"
      },
      "source": [
        "Q = np.logspace(-2.2,-5.7,100)\n",
        "plt.plot((Q/Qmax))"
      ],
      "execution_count": null,
      "outputs": [
        {
          "output_type": "execute_result",
          "data": {
            "text/plain": [
              "[<matplotlib.lines.Line2D at 0x7f0322f41a90>]"
            ]
          },
          "metadata": {
            "tags": []
          },
          "execution_count": 14
        },
        {
          "output_type": "display_data",
          "data": {
            "image/png": "[encoded data removed]",
            "text/plain": [
              "<Figure size 432x288 with 1 Axes>"
            ]
          },
          "metadata": {
            "tags": [],
            "needs_background": "light"
          }
        }
      ]
    },
    {
      "cell_type": "markdown",
      "metadata": {
        "id": "jaD0E_1ipwvm"
      },
      "source": [
        "#Reduce"
      ]
    },
    {
      "cell_type": "code",
      "metadata": {
        "id": "WqoULbO4s8Jn"
      },
      "source": [
        "## subgraphs for each disease\n",
        "\n",
        "pathway_graph = {}\n",
        "\n",
        "for id in pathway:\n",
        "  pathway_graph[id] = gcc.subgraph(pathway[id]) "
      ],
      "execution_count": null,
      "outputs": []
    },
    {
      "cell_type": "code",
      "metadata": {
        "id": "JO8kEzB2tT2Y",
        "colab": {
          "base_uri": "https://localhost:8080/"
        },
        "outputId": "9d0a0839-6548-4d4f-85eb-323a4113cd88"
      },
      "source": [
        "## maximum number of edges out of all disease subgraphs\n",
        "\n",
        "mx=0\n",
        "for id in pathway:\n",
        "  mx = max(mx,len(pathway_graph[id].edges()))\n",
        "mx"
      ],
      "execution_count": null,
      "outputs": [
        {
          "output_type": "execute_result",
          "data": {
            "text/plain": [
              "2018"
            ]
          },
          "metadata": {
            "tags": []
          },
          "execution_count": 59
        }
      ]
    },
    {
      "cell_type": "code",
      "metadata": {
        "id": "ErdNVC4ztdL4",
        "colab": {
          "base_uri": "https://localhost:8080/"
        },
        "outputId": "e47ebd2f-4c69-485d-9a66-0e5739cfb5c4"
      },
      "source": [
        "### Connected Component Subgraphs for each disease\n",
        "\n",
        "pathway_cc = {}\n",
        "\n",
        "for id in pathway:\n",
        " pathway_cc[id] = [gcc.subgraph(cc_nodes).copy() for cc_nodes in nx.connected_components(pathway_graph[id])]\n",
        "\n",
        "#Disease characteristics connected components\n",
        "worst_disease_id = max(pathway_cc,key=len)\n",
        "cc_count = len(pathway_cc[worst_disease_id])\n",
        "print(\"Disease with maximum number of connected components is: \" , worst_disease_id, \" with components = \" , cc_count)\n",
        "\n",
        "disease_cc_count = [len(pathway_cc[id]) for id in pathway]\n",
        "print(\"Average number of connected components per disease: \", sum(disease_cc_count)/ len(disease_cc_count))"
      ],
      "execution_count": null,
      "outputs": [
        {
          "output_type": "stream",
          "text": [
            "Disease with maximum number of connected components is:  C0036095  with components =  37\n",
            "Average number of connected components per disease:  21.68208092485549\n"
          ],
          "name": "stdout"
        }
      ]
    },
    {
      "cell_type": "code",
      "metadata": {
        "id": "5uysNzm9zWGN"
      },
      "source": [
        "### Node with maximum betweenness_centrality FOR each connected component FOR each Disease\n",
        "\n",
        "pathway_cc_max_BC_node = {}\n",
        "\n",
        "for id in pathway:\n",
        "  pathway_cc_max_BC_node[id] = []\n",
        "  for cc in pathway_cc[id]:\n",
        "    bc = dict(alg.centrality.betweenness_centrality(cc))\n",
        "    cc_nodes = list(bc.keys())\n",
        "    cc_bc_values = list(bc.values())\n",
        "    max_bc_node = cc_nodes[cc_bc_values.index(max(cc_bc_values))]\n",
        "    pathway_cc_max_BC_node[id].append(max_bc_node)"
      ],
      "execution_count": null,
      "outputs": []
    },
    {
      "cell_type": "code",
      "metadata": {
        "id": "ylDUY4tt8hrj",
        "colab": {
          "base_uri": "https://localhost:8080/"
        },
        "outputId": "234fef01-466c-407b-ce84-4c3ce0689b65"
      },
      "source": [
        "## keep only disease pathways and the nodes connecting the pathway components\n",
        "## Add shortest paths between components using max BetweenNess Centrality Nodes\n",
        "keep = set()\n",
        "  \n",
        "for id in pathway: \n",
        "  keep.update(pathway[id])\n",
        "  n = len(pathway_cc[id])\n",
        "  for i in range(n):\n",
        "    for j in range(i+1,n):\n",
        "      path = alg.shortest_paths.generic.shortest_path(G,pathway_cc_max_BC_node[id][i],pathway_cc_max_BC_node[id][j])\n",
        "      if len(path)>1: keep.update(path)\n",
        "\n",
        "### Add Edges in Each Disease Each Connected Component\n",
        "gcc_reduced = gcc.subgraph(keep)\n",
        "\n",
        "## Number of nodes and Number of edges in reduced graph\n",
        "print(\"Nodes in Reduced Graph:\",len(gcc_reduced.nodes()))\n",
        "print(\"Edges in Reduced Graph:\",len(gcc_reduced.edges()))"
      ],
      "execution_count": null,
      "outputs": [
        {
          "output_type": "stream",
          "text": [
            "Nodes in Reduced Graph: 11630\n",
            "Edges in Reduced Graph: 284013\n"
          ],
          "name": "stdout"
        }
      ]
    },
    {
      "cell_type": "code",
      "metadata": {
        "id": "3mcaYMzKRrz-"
      },
      "source": [
        "## All pair shortest paths for reduced disease network\n",
        "p = nx.shortest_path_length(gcc_reduced) "
      ],
      "execution_count": null,
      "outputs": []
    },
    {
      "cell_type": "code",
      "metadata": {
        "id": "jbFJ98zq_PBd",
        "colab": {
          "base_uri": "https://localhost:8080/"
        },
        "outputId": "007f0a40-8e5c-44f1-d72e-611915f9829b"
      },
      "source": [
        "## Degree Histogram \n",
        "def plot_hist(graph, name = 'Network'):\n",
        "  degree_histogram = fn.degree_histogram(graph)[1:] #list with i th index as frequency of degree = i\n",
        "  sz = len(degree_histogram)\n",
        "  x = np.linspace(1,sz,sz)\n",
        "  \n",
        "  plt.scatter(np.log10(x[:sz]),np.log10(degree_histogram[:sz]))\n",
        "  plt.title(name, fontsize = 18)\n",
        "  plt.xlabel(\"Log$_{10}$(Degree)\", fontsize = 18)\n",
        "  plt.ylabel(\"Log$_{10}$(Number of Nodes)\", fontsize = 18)\n",
        "  plt.grid()\n",
        "  plt.xticks(fontsize=16)\n",
        "  plt.yticks(fontsize=16)\n",
        "  plt.tight_layout()\n",
        "\n",
        "plt.figure(figsize=(12, 5))\n",
        "plt.subplot(1,2,1)\n",
        "plot_hist(gcc)\n",
        "plt.subplot(1,2,2)\n",
        "plot_hist(gcc_reduced, 'reduced_network')\n",
        "plt.show()"
      ],
      "execution_count": null,
      "outputs": [
        {
          "output_type": "stream",
          "text": [
            "/usr/local/lib/python3.6/dist-packages/ipykernel_launcher.py:7: RuntimeWarning: divide by zero encountered in log10\n",
            "  import sys\n"
          ],
          "name": "stderr"
        },
        {
          "output_type": "display_data",
          "data": {
            "image/png": "[encoded data removed]",
            "text/plain": [
              "<Figure size 864x360 with 2 Axes>"
            ]
          },
          "metadata": {
            "tags": [],
            "needs_background": "light"
          }
        }
      ]
    },
    {
      "cell_type": "markdown",
      "metadata": {
        "id": "w85_fXmZAhMP"
      },
      "source": [
        "#Characterization"
      ]
    },
    {
      "cell_type": "code",
      "metadata": {
        "id": "fjLTlxGEgoEM"
      },
      "source": [
        "### Disease Subgraph Characterizations\n",
        "def pathway_characterization(disease_id):\n",
        "    disease_properties = {}\n",
        "\n",
        "    total_nodes = list(gcc.nodes())\n",
        "    adjacency_matrix = gcc_adj_mat.copy()\n",
        "    n = adjacency_matrix.shape[0]\n",
        "\n",
        "    disease_nodes = pathway[disease_id]\n",
        "    disease_indices = np.sort([total_nodes.index(seed) for seed in disease_nodes])\n",
        "\n",
        "    num_total_nodes = adjacency_matrix.shape[0]\n",
        "    num_total_edges = np.sum(adjacency_matrix)/2\n",
        "\n",
        "    num_nodes = len(disease_indices)\n",
        "    disease_properties[\"num_nodes\"] = num_nodes\n",
        "\n",
        "    subgraph = gcc.subgraph(disease_nodes)\n",
        "    sliced_adj_matrix = adjacency_matrix[disease_indices, :]\n",
        "    num_disease_node_edges = np.sum(sliced_adj_matrix)/2\n",
        "    sub_adj_matrix = sliced_adj_matrix[:, disease_indices]\n",
        "    num_internal_edges = np.sum(sub_adj_matrix)/2\n",
        "    external_edges = num_disease_node_edges - num_internal_edges\n",
        "    \n",
        "    #Internal connectivity\n",
        "    disease_properties[\"density\"] = nx.density(subgraph)\n",
        "    disease_properties[\"average_degree\"] = 2*num_internal_edges/num_nodes\n",
        "    disease_properties[\"average_internal_clustering\"] = nx.average_clustering(subgraph)\n",
        "\n",
        "    conn_comps = nx.connected_components(subgraph)\n",
        "    sorted_cc = [len(c) for c in sorted(conn_comps, key=len, reverse=True)]\n",
        "    disease_properties[\"size_largest_connected_component\"] = sorted_cc[0]\n",
        "    disease_properties[\"percent_in_largest_connected_component\"] = float(sorted_cc[0])/num_nodes\n",
        "    disease_properties[\"number_connected_components\"] = len(sorted_cc)\n",
        "\n",
        "    #External connectivity\n",
        "    disease_properties[\"expansion\"] = external_edges/num_nodes\n",
        "    disease_properties[\"cut_ratio\"] = external_edges/(num_nodes*(num_total_nodes-num_nodes))\n",
        "\n",
        "    #External and internal connectivity\n",
        "    disease_properties[\"conductance\"] = external_edges/(2*num_internal_edges+external_edges)\n",
        "    disease_properties[\"normalized_cut\"] = disease_properties[\"conductance\"] + external_edges/(2*(num_total_edges-num_internal_edges)+external_edges)\n",
        "\n",
        "    return disease_properties"
      ],
      "execution_count": null,
      "outputs": []
    },
    {
      "cell_type": "code",
      "metadata": {
        "id": "hEL59qMyTBIG"
      },
      "source": [
        "pathway_characteristics = {}\n",
        "for id in pathway:\n",
        "  pathway_characteristics[id] = pathway_characterization(id)"
      ],
      "execution_count": null,
      "outputs": []
    },
    {
      "cell_type": "code",
      "metadata": {
        "id": "TMuBF2Kgc4LG"
      },
      "source": [
        "id = order[0]\n",
        "row_order = list(pathway_characteristics[id].keys())\n",
        "\n",
        "data = np.array([ [pathway_characteristics[id][key] for key in row_order] for id in order])\n",
        "\n",
        "df = pd.DataFrame(data=data, index=order, columns=row_order)\n",
        "df.to_csv(\"pathway_characteristics.csv\")"
      ],
      "execution_count": null,
      "outputs": []
    },
    {
      "cell_type": "code",
      "metadata": {
        "id": "sRro9sj8UXgb"
      },
      "source": [
        "# def property(p, bin = 20):\n",
        "#   all_disease_property_p = [pathway_characteristics[id][p] for id in pathway]\n",
        "#   plt.hist(all_disease_property_p, bins=bin, edgecolor='black', linewidth=1.2)\n",
        "#   plt.title(p)\n",
        "#   plt.show()\n",
        "\n",
        "# property('density')\n",
        "# property('average_internal_clustering')"
      ],
      "execution_count": null,
      "outputs": []
    },
    {
      "cell_type": "code",
      "metadata": {
        "id": "PjM_LaOJU1mn",
        "colab": {
          "base_uri": "https://localhost:8080/"
        },
        "outputId": "2b500827-917b-4e10-e307-a27d6fac4673"
      },
      "source": [
        "!git clone https://github.com/mims-harvard/pathways"
      ],
      "execution_count": null,
      "outputs": [
        {
          "output_type": "stream",
          "text": [
            "fatal: destination path 'pathways' already exists and is not an empty directory.\n"
          ],
          "name": "stdout"
        }
      ]
    },
    {
      "cell_type": "markdown",
      "metadata": {
        "id": "BdmXVrAJtaBx"
      },
      "source": [
        "#Shuffle for Kfold Disease Indices"
      ]
    },
    {
      "cell_type": "code",
      "metadata": {
        "id": "eCqB5BGktTQw"
      },
      "source": [
        "## Shuffler[id] = shuffled indices of nodes in disease with given id.\n",
        "\n",
        "shuffler = {}\n",
        "\n",
        "np.random.seed(1)\n",
        "for id in pathway:\n",
        "  shuffler[id] = [nodes.index(seed) for seed in pathway[id]]\n",
        "  np.random.shuffle(shuffler[id])"
      ],
      "execution_count": null,
      "outputs": []
    },
    {
      "cell_type": "markdown",
      "metadata": {
        "id": "tg7SlEzHkgrp"
      },
      "source": [
        "#Recall at k"
      ]
    },
    {
      "cell_type": "code",
      "metadata": {
        "id": "r-jKvFzhkfuV"
      },
      "source": [
        "#  recall at k\n",
        "#  true positives in top k scores\n",
        "\n",
        "def  recall_k(score, true, k = 100):\n",
        "  pairs = [(p[1],p[0]) for p in list(enumerate(score))]\n",
        "  pairs = sorted(pairs,reverse= True)[:k]\n",
        "  c = 0\n",
        "  for p in pairs:\n",
        "    c += p[1] in true\n",
        "  return c/len(true)"
      ],
      "execution_count": null,
      "outputs": []
    },
    {
      "cell_type": "markdown",
      "metadata": {
        "id": "dKVnOYTuAsh5"
      },
      "source": [
        "# Diamond"
      ]
    },
    {
      "cell_type": "code",
      "metadata": {
        "id": "hCDhfWgmUE6o"
      },
      "source": [
        "#%pycat /content/pathways/prediction/diamond.py\n",
        "\n",
        "\n",
        "# Implementation of the DIAMOnD method from Ghiassian et al\n",
        "\n",
        "\n",
        "# Avoids doing the costly hypergeometric calculation if the result will definitely be lower than an existing candidate\n",
        "def _compare_to_existing(processed_list, seed_conns, total_conns):\n",
        "    less_likely = [(a, b) for (a,b) in processed_list if a>=seed_conns and b<=total_conns]\n",
        "    if len(less_likely) == 0: \n",
        "        return False\n",
        "    return True\n",
        "\n",
        "\"\"\" Returns list of scores, based on using assoc_gene_vector as the initial vector, for top number_to_rank predictions.\n",
        "\n",
        "Inputs:\n",
        "adjacency_matrix: Unnormalized adjacency matrix of shape (number_genes, number_genes)\n",
        "assoc_gene_vector: Numpy array of shape (number_genes,) with 1's for seed proteins, and 0's elsewhere\n",
        "alpha: The weight given to seeds\n",
        "number_to_rank: The number of iterations to run DIAMOnD\n",
        "\"\"\"\n",
        "def diamond_scores(adjacency_matrix, assoc_gene_vector, alpha=5, number_to_rank=100):\n",
        "    num_genes = assoc_gene_vector.shape[0]\n",
        "    edges_per_gene = np.sum(adjacency_matrix, axis=0)\n",
        "    scores = np.zeros(assoc_gene_vector.shape)\n",
        "    seeds = np.copy(assoc_gene_vector)\n",
        "    connections_to_seeds = np.sum(adjacency_matrix[:, np.nonzero(assoc_gene_vector)[0]], axis = 1)\n",
        "    num_gene_edges = edges_per_gene + (alpha-1)*connections_to_seeds.T\n",
        "    N = num_genes + np.sum(assoc_gene_vector)*(alpha-1)\n",
        "    connections_to_seeds = connections_to_seeds * (alpha)\n",
        "    num_seeds = alpha*np.sum(assoc_gene_vector)\n",
        "    for index in range(1, number_to_rank+1):\n",
        "        potential_cand = np.nonzero(connections_to_seeds*(1-seeds)>=1)[0]\n",
        "        num_candidates = potential_cand.shape[0]\n",
        "        if num_candidates == 0: break\n",
        "        best_cand = -1\n",
        "        best_conn = 1\n",
        "        existing_calculations = []\n",
        "        for i in range(num_candidates):\n",
        "            cand_index = potential_cand[i]\n",
        "            #print(list(connections_to_seeds.T)[0],list(num_gene_edges)[0])\n",
        "            if _compare_to_existing(existing_calculations, (connections_to_seeds.T).tolist()[0][cand_index], (num_gene_edges).tolist()[0][cand_index]):\n",
        "                continue\n",
        "            conn = hypergeom.sf((connections_to_seeds.T).tolist()[0][cand_index]-1, N, num_seeds, (num_gene_edges).tolist()[0][cand_index])\n",
        "            existing_calculations.append(((connections_to_seeds.T).tolist()[0][cand_index], (num_gene_edges).tolist()[0][cand_index]))\n",
        "            if conn < best_conn:\n",
        "                best_conn = conn\n",
        "                best_cand = cand_index\n",
        "        connections_to_seeds += adjacency_matrix[:, best_cand]\n",
        "        seeds[best_cand] = 1\n",
        "        scores[best_cand] = 1.0/index\n",
        "        num_seeds += 1\n",
        "    return scores\n",
        "\n",
        "\n",
        "kfold = {}\n",
        "c=0\n",
        "for id in pathway:\n",
        "  total_nodes = list(gcc.nodes())\n",
        "  nn = len(gcc.nodes())\n",
        "  disease_nodes = pathway[id]\n",
        "  n = len(pathway[id])\n",
        "  disease_indices = random.sample([total_nodes.index(seed) for seed in disease_nodes],9*n//10)\n",
        "  assoc = np.zeros(nn)\n",
        "  for i in range(nn):\n",
        "    assoc[i] =  i in disease_indices\n",
        "  score = diamond_scores(gcc_adj_mat, assoc, alpha=5, number_to_rank=100)\n",
        "  break"
      ],
      "execution_count": null,
      "outputs": []
    },
    {
      "cell_type": "code",
      "metadata": {
        "id": "Z28NPxA3CeUl",
        "colab": {
          "base_uri": "https://localhost:8080/",
          "height": 333
        },
        "outputId": "5e973c76-5b17-4bd3-c09c-daf82b01cf10"
      },
      "source": [
        "kfold = {}\n",
        "c=0\n",
        "for id in pathway:\n",
        "  total_nodes = list(gcc.nodes())\n",
        "  nn = len(gcc.nodes())\n",
        "  disease_nodes = pathway[id]\n",
        "  n = len(pathway[id])\n",
        "  disease_indices = random.sample([total_nodes.index(seed) for seed in disease_nodes],9*n//10)\n",
        "  assoc = np.zeros(nn)\n",
        "  for i in range(nn):\n",
        "    assoc[i] =  i in disease_indices\n",
        "  score = diamond_scores(gcc_adj_mat, assoc, alpha=5, number_to_rank=100)\n",
        "  break"
      ],
      "execution_count": null,
      "outputs": [
        {
          "output_type": "error",
          "ename": "UnboundLocalError",
          "evalue": "ignored",
          "traceback": [
            "\u001b[0;31m---------------------------------------------------------------------------\u001b[0m",
            "\u001b[0;31mUnboundLocalError\u001b[0m                         Traceback (most recent call last)",
            "\u001b[0;32m<ipython-input-37-52947c8ec867>\u001b[0m in \u001b[0;36m<module>\u001b[0;34m()\u001b[0m\n\u001b[1;32m     10\u001b[0m   \u001b[0;32mfor\u001b[0m \u001b[0mi\u001b[0m \u001b[0;32min\u001b[0m \u001b[0mrange\u001b[0m\u001b[0;34m(\u001b[0m\u001b[0mnn\u001b[0m\u001b[0;34m)\u001b[0m\u001b[0;34m:\u001b[0m\u001b[0;34m\u001b[0m\u001b[0;34m\u001b[0m\u001b[0m\n\u001b[1;32m     11\u001b[0m     \u001b[0massoc\u001b[0m\u001b[0;34m[\u001b[0m\u001b[0mi\u001b[0m\u001b[0;34m]\u001b[0m \u001b[0;34m=\u001b[0m  \u001b[0mi\u001b[0m \u001b[0;32min\u001b[0m \u001b[0mdisease_indices\u001b[0m\u001b[0;34m\u001b[0m\u001b[0;34m\u001b[0m\u001b[0m\n\u001b[0;32m---> 12\u001b[0;31m   \u001b[0mscore\u001b[0m \u001b[0;34m=\u001b[0m \u001b[0mdiamond_scores\u001b[0m\u001b[0;34m(\u001b[0m\u001b[0mgcc_adj_mat\u001b[0m\u001b[0;34m,\u001b[0m \u001b[0massoc\u001b[0m\u001b[0;34m,\u001b[0m \u001b[0malpha\u001b[0m\u001b[0;34m=\u001b[0m\u001b[0;36m5\u001b[0m\u001b[0;34m,\u001b[0m \u001b[0mnumber_to_rank\u001b[0m\u001b[0;34m=\u001b[0m\u001b[0;36m100\u001b[0m\u001b[0;34m)\u001b[0m\u001b[0;34m\u001b[0m\u001b[0;34m\u001b[0m\u001b[0m\n\u001b[0m\u001b[1;32m     13\u001b[0m   \u001b[0;32mbreak\u001b[0m\u001b[0;34m\u001b[0m\u001b[0;34m\u001b[0m\u001b[0m\n",
            "\u001b[0;32m<ipython-input-36-58c60fb9dba1>\u001b[0m in \u001b[0;36mdiamond_scores\u001b[0;34m(adjacency_matrix, assoc_gene_vector, alpha, number_to_rank)\u001b[0m\n\u001b[1;32m     26\u001b[0m     \u001b[0mseeds\u001b[0m \u001b[0;34m=\u001b[0m \u001b[0mnp\u001b[0m\u001b[0;34m.\u001b[0m\u001b[0mcopy\u001b[0m\u001b[0;34m(\u001b[0m\u001b[0massoc_gene_vector\u001b[0m\u001b[0;34m)\u001b[0m\u001b[0;34m\u001b[0m\u001b[0;34m\u001b[0m\u001b[0m\n\u001b[1;32m     27\u001b[0m     \u001b[0mconnections_to_seeds\u001b[0m \u001b[0;34m=\u001b[0m \u001b[0mnp\u001b[0m\u001b[0;34m.\u001b[0m\u001b[0msum\u001b[0m\u001b[0;34m(\u001b[0m\u001b[0madjacency_matrix\u001b[0m\u001b[0;34m[\u001b[0m\u001b[0;34m:\u001b[0m\u001b[0;34m,\u001b[0m \u001b[0mnp\u001b[0m\u001b[0;34m.\u001b[0m\u001b[0mnonzero\u001b[0m\u001b[0;34m(\u001b[0m\u001b[0massoc_gene_vector\u001b[0m\u001b[0;34m)\u001b[0m\u001b[0;34m[\u001b[0m\u001b[0;36m0\u001b[0m\u001b[0;34m]\u001b[0m\u001b[0;34m]\u001b[0m\u001b[0;34m,\u001b[0m \u001b[0maxis\u001b[0m \u001b[0;34m=\u001b[0m \u001b[0;36m1\u001b[0m\u001b[0;34m)\u001b[0m\u001b[0;34m.\u001b[0m\u001b[0mT\u001b[0m\u001b[0;34m.\u001b[0m\u001b[0mtolist\u001b[0m\u001b[0;34m(\u001b[0m\u001b[0;34m)\u001b[0m\u001b[0;34m[\u001b[0m\u001b[0;36m0\u001b[0m\u001b[0;34m]\u001b[0m\u001b[0;34m\u001b[0m\u001b[0;34m\u001b[0m\u001b[0m\n\u001b[0;32m---> 28\u001b[0;31m     \u001b[0mprint\u001b[0m\u001b[0;34m(\u001b[0m\u001b[0mlen\u001b[0m\u001b[0;34m(\u001b[0m\u001b[0mconnections_to_seeds\u001b[0m\u001b[0;34m)\u001b[0m\u001b[0;34m,\u001b[0m\u001b[0mlen\u001b[0m\u001b[0;34m(\u001b[0m\u001b[0mnum_gene_edges\u001b[0m\u001b[0;34m)\u001b[0m\u001b[0;34m)\u001b[0m\u001b[0;34m\u001b[0m\u001b[0;34m\u001b[0m\u001b[0m\n\u001b[0m\u001b[1;32m     29\u001b[0m     \u001b[0mnum_gene_edges\u001b[0m \u001b[0;34m=\u001b[0m \u001b[0;34m(\u001b[0m\u001b[0medges_per_gene\u001b[0m \u001b[0;34m+\u001b[0m \u001b[0;34m(\u001b[0m\u001b[0malpha\u001b[0m\u001b[0;34m-\u001b[0m\u001b[0;36m1\u001b[0m\u001b[0;34m)\u001b[0m\u001b[0;34m*\u001b[0m\u001b[0mnp\u001b[0m\u001b[0;34m.\u001b[0m\u001b[0marray\u001b[0m\u001b[0;34m(\u001b[0m\u001b[0mconnections_to_seeds\u001b[0m\u001b[0;34m)\u001b[0m\u001b[0;34m)\u001b[0m\u001b[0;34m.\u001b[0m\u001b[0mtolist\u001b[0m\u001b[0;34m(\u001b[0m\u001b[0;34m)\u001b[0m\u001b[0;34m[\u001b[0m\u001b[0;36m0\u001b[0m\u001b[0;34m]\u001b[0m\u001b[0;34m\u001b[0m\u001b[0;34m\u001b[0m\u001b[0m\n\u001b[1;32m     30\u001b[0m     \u001b[0mN\u001b[0m \u001b[0;34m=\u001b[0m \u001b[0mnum_genes\u001b[0m \u001b[0;34m+\u001b[0m \u001b[0mnp\u001b[0m\u001b[0;34m.\u001b[0m\u001b[0msum\u001b[0m\u001b[0;34m(\u001b[0m\u001b[0massoc_gene_vector\u001b[0m\u001b[0;34m)\u001b[0m\u001b[0;34m*\u001b[0m\u001b[0;34m(\u001b[0m\u001b[0malpha\u001b[0m\u001b[0;34m-\u001b[0m\u001b[0;36m1\u001b[0m\u001b[0;34m)\u001b[0m\u001b[0;34m\u001b[0m\u001b[0;34m\u001b[0m\u001b[0m\n",
            "\u001b[0;31mUnboundLocalError\u001b[0m: local variable 'num_gene_edges' referenced before assignment"
          ]
        }
      ]
    },
    {
      "cell_type": "markdown",
      "metadata": {
        "id": "MJLvEsQFAxFV"
      },
      "source": [
        "#Neighbourhood Done"
      ]
    },
    {
      "cell_type": "code",
      "metadata": {
        "id": "ap75BVEKIyEg"
      },
      "source": [
        "def neighborhood_scores(adjacency_matrix, disease_indices):\n",
        "\n",
        "  n = adjacency_matrix.shape[0]\n",
        "  total_neighbors = np.sum(adjacency_matrix, axis = 1)\n",
        "\n",
        "  assoc_diseases = adjacency_matrix[:, disease_indices]\n",
        "  assoc_neighbors = np.sum(assoc_diseases, axis = 1)\n",
        "\n",
        "  assoc_gene_vector = np.zeros(n)\n",
        "  assoc_gene_vector[disease_indices] = 1\n",
        "  assoc_gene_vector = np.reshape(assoc_gene_vector,(n,1))\n",
        "\n",
        "  scores = assoc_neighbors/(total_neighbors + (1e-7))\n",
        "  scores = np.multiply(scores , (1 - assoc_gene_vector))\n",
        "  return scores\n",
        "\n",
        "start = 0\n",
        "end = len(order)\n",
        "k = 10\n",
        "for id in order[start:end]:\n",
        "  recall = 0\n",
        "  n = len(pathway[id])\n",
        "  step = int(n/k)\n",
        "  for i in range(k):\n",
        "    st = i*step\n",
        "    en = min((i+1)*step,n) \n",
        "    nn = en - st\n",
        "    if nn<=0: continue\n",
        "    kf = shuffler[id][:st] + shuffler[id][en:]\n",
        "    of = shuffler[id][st:en]\n",
        "    score = neighborhood_scores(gcc_adj_mat, kf)\n",
        "    recall += recall_k(score,of)\n",
        "  recall_100_neighbourhood[id] = recall/k"
      ],
      "execution_count": null,
      "outputs": []
    },
    {
      "cell_type": "code",
      "metadata": {
        "id": "qWQPjdyUUGK3"
      },
      "source": [
        "data = np.array([recall_100_neighbourhood[id] for id in order[start:end]])\n",
        "data = np.reshape(data, (end-start,1))\n",
        "df = pd.DataFrame(data=data,index=order[start:end])\n",
        "df.to_csv(\"neighborhood_recall_scores.csv\")"
      ],
      "execution_count": null,
      "outputs": []
    },
    {
      "cell_type": "markdown",
      "metadata": {
        "id": "hCKjKAgSA2VV"
      },
      "source": [
        "#random walk"
      ]
    },
    {
      "cell_type": "code",
      "metadata": {
        "id": "Ew_9IbZwoUq7"
      },
      "source": [
        "def random_walk_scores(adjacency_matrix, disease_indices, return_prob= 0.75):\n",
        "\t\n",
        "  n = adjacency_matrix.shape[0]\n",
        "  assoc_gene_vector = np.zeros(n)\n",
        "  assoc_gene_vector[disease_indices] = 1\n",
        "  assoc_gene_vector = np.reshape(assoc_gene_vector,(n,1))\n",
        "\n",
        "  ratio = return_prob\n",
        "  convergence_metric = 1\n",
        "  p0 = assoc_gene_vector/np.sum(assoc_gene_vector)\n",
        "  old_vector = p0.copy()\n",
        "  while (convergence_metric>1e-3):\n",
        "    new_vector = (1-ratio) * np.matmul(adjacency_matrix, old_vector) + ratio * p0\n",
        "    new_vector = new_vector/np.linalg.norm(new_vector,1)\n",
        "    convergence_metric = np.linalg.norm(new_vector-old_vector)\n",
        "    old_vector = np.copy(new_vector)\n",
        "  scores = np.multiply(old_vector , (1 - assoc_gene_vector))\n",
        "  return scores\n",
        "\n",
        "scores = {}\n",
        "st= time()\n",
        "c=0\n",
        "for id in pathway:\n",
        "  scores[id] = random_walk_scores(gcc_adj_mat, kfold[id])\n",
        "  c+=1\n",
        "  print('\\r',c,end='')\n",
        "print('')\n",
        "en = time()\n",
        "t = (en-st)/60\n",
        "print('Time taken for all diseases:',t)"
      ],
      "execution_count": null,
      "outputs": []
    },
    {
      "cell_type": "code",
      "metadata": {
        "id": "2PlmWKZeUiOl"
      },
      "source": [
        "data = np.array([np.reshape(scores[id],21521).tolist()[0] for id in order])\n",
        "df = pd.DataFrame(data=data,index=order,columns=nodes)\n",
        "df.to_csv(\"random_walk_scores.csv\")"
      ],
      "execution_count": null,
      "outputs": []
    },
    {
      "cell_type": "markdown",
      "metadata": {
        "id": "GSXnU3l5s8_2"
      },
      "source": [
        "#Recall vs Density"
      ]
    },
    {
      "cell_type": "code",
      "metadata": {
        "id": "QO8y4QDHUfrS",
        "colab": {
          "base_uri": "https://localhost:8080/"
        },
        "outputId": "e51e0b6a-7f63-49ba-e1da-cf3462615d5a"
      },
      "source": [
        "df = pd.read_csv(root+'pathway_characteristics.csv')\n",
        "df.keys() "
      ],
      "execution_count": null,
      "outputs": [
        {
          "output_type": "execute_result",
          "data": {
            "text/plain": [
              "Index(['Unnamed: 0', 'num_nodes', 'density', 'average_degree',\n",
              "       'average_internal_clustering', 'size_largest_connected_component',\n",
              "       'percent_in_largest_connected_component', 'number_connected_components',\n",
              "       'expansion', 'cut_ratio', 'conductance', 'normalized_cut'],\n",
              "      dtype='object')"
            ]
          },
          "metadata": {
            "tags": []
          },
          "execution_count": 53
        }
      ]
    },
    {
      "cell_type": "code",
      "metadata": {
        "id": "zz_2JQDJOL_k",
        "colab": {
          "base_uri": "https://localhost:8080/"
        },
        "outputId": "ea42ce8d-7683-407c-b571-e93e389c4e33"
      },
      "source": [
        "y_vals = []\n",
        "\n",
        "for i in range(26):\n",
        "  k = i*20\n",
        "  d1 = pd.read_csv(root+\"/random walk/\"+'random_walk_recall_scores_{}.csv'.format(k))\n",
        "  d1 = np.array(d1['0']).tolist()\n",
        "  y_vals += d1\n",
        "\n",
        "y = np.array(y_vals)\n",
        "y.shape"
      ],
      "execution_count": null,
      "outputs": [
        {
          "output_type": "execute_result",
          "data": {
            "text/plain": [
              "(519,)"
            ]
          },
          "metadata": {
            "tags": []
          },
          "execution_count": 25
        }
      ]
    },
    {
      "cell_type": "code",
      "metadata": {
        "id": "vbQC6hyZV_zU"
      },
      "source": [
        "char = 'average_internal_clustering'\n",
        "x = df[char]\n",
        "# y = []\n",
        "# for id in pathway:\n",
        "#    y += [recall_100_neighbourhood[id]]"
      ],
      "execution_count": null,
      "outputs": []
    },
    {
      "cell_type": "code",
      "metadata": {
        "id": "2wlUa9w9Ua7Z",
        "colab": {
          "base_uri": "https://localhost:8080/",
          "height": 281
        },
        "outputId": "e69b8711-f229-4f75-c6f5-b5d57a265403"
      },
      "source": [
        "#plt.scatter(x,y,s=10)\n",
        "#plt.scatter(x,y,s=10)\n",
        "\n",
        "#plt.xlim((0,1))\n",
        "#plt.ylim((0,1))\n",
        "\n",
        "plt.hist(x, bins=20, edgecolor='black', linewidth=1.2)\n",
        "plt.title('Modularity')\n",
        "plt.show()"
      ],
      "execution_count": null,
      "outputs": [
        {
          "output_type": "display_data",
          "data": {
            "image/png": "[encoded data removed]",
            "text/plain": [
              "<Figure size 432x288 with 1 Axes>"
            ]
          },
          "metadata": {
            "tags": [],
            "needs_background": "light"
          }
        }
      ]
    },
    {
      "cell_type": "code",
      "metadata": {
        "id": "Hxq3kJ2FMaeI"
      },
      "source": [
        "## => Avg Distance for each disease"
      ],
      "execution_count": null,
      "outputs": []
    },
    {
      "cell_type": "code",
      "metadata": {
        "id": "GcK2jEIAJzy6"
      },
      "source": [
        ""
      ],
      "execution_count": null,
      "outputs": []
    },
    {
      "cell_type": "code",
      "metadata": {
        "id": "xuc5PZiBJ0On"
      },
      "source": [
        "char = 'density'\n",
        "x = df[char]\n",
        "# y = []\n",
        "# for id in pathway:\n",
        "#   y += [recall_100_neighbourhood[id]]"
      ],
      "execution_count": null,
      "outputs": []
    },
    {
      "cell_type": "code",
      "metadata": {
        "id": "-ibLBxVsJ0Os",
        "colab": {
          "base_uri": "https://localhost:8080/",
          "height": 282
        },
        "outputId": "211fe605-94d8-48ef-b422-a5b0df8c1098"
      },
      "source": [
        "plt.scatter(x,y,s=10)\n",
        "#plt.scatter(x,y,s=10)\n",
        "\n",
        "#plt.xlim((0,1))\n",
        "#plt.ylim((0,1))"
      ],
      "execution_count": null,
      "outputs": [
        {
          "output_type": "execute_result",
          "data": {
            "text/plain": [
              "<matplotlib.collections.PathCollection at 0x7f20727c17f0>"
            ]
          },
          "metadata": {
            "tags": []
          },
          "execution_count": 49
        },
        {
          "output_type": "display_data",
          "data": {
            "image/png": "[encoded data removed]",
            "text/plain": [
              "<Figure size 432x288 with 1 Axes>"
            ]
          },
          "metadata": {
            "tags": [],
            "needs_background": "light"
          }
        }
      ]
    }
  ]
}